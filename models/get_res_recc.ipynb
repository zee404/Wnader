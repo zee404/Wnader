{
 "cells": [
  {
   "cell_type": "code",
   "execution_count": null,
   "metadata": {
    "pycharm": {
     "name": "#%%\n"
    }
   },
   "outputs": [],
   "source": [
    "from IPython.display import display\n",
    "import ipywidgets as w\n",
    "import pandas as pd\n",
    "import re"
   ]
  },
  {
   "cell_type": "markdown",
   "metadata": {
    "pycharm": {
     "name": "#%% md\n"
    }
   },
   "source": [
    "## User details and Preferences"
   ]
  },
  {
   "cell_type": "code",
   "execution_count": null,
   "metadata": {
    "cell_style": "center",
    "pycharm": {
     "name": "#%%\n"
    }
   },
   "outputs": [],
   "source": [
    "uname = w.Text(description=\"User Name\")\n",
    "start = w.DatePicker(description='Start Date',disabled=False)\n",
    "end = w.DatePicker(description='End Date',disabled=False)\n",
    "v2 = w.VBox([start,end])\n",
    "out = w.HBox([uname,v2])\n",
    "display(out)"
   ]
  },
  {
   "cell_type": "code",
   "execution_count": null,
   "metadata": {
    "pycharm": {
     "name": "#%%\n"
    }
   },
   "outputs": [],
   "source": [
    "user_name = re.sub(' ','_',uname.value.lower())\n",
    "begin_date = start.value\n",
    "end_date = end.value"
   ]
  },
  {
   "cell_type": "code",
   "execution_count": null,
   "metadata": {
    "pycharm": {
     "name": "#%%\n"
    }
   },
   "outputs": [],
   "source": [
    "cuisine_type = ['Asian', 'Japanese', 'Pubs', 'Sports Bar', 'Mediterranean',\n",
    "                'Irish', 'French', 'Fusion', 'Mexican', 'Canadian',\n",
    "                'African', 'Indian', 'Pakistani', 'Italian', 'Chinese'\n",
    "                ]\n",
    "preference = [\n",
    "    'Vegetarian', 'Vegan', 'Halal', 'Gluten Free'\n",
    "]\n",
    "\n",
    "# Create a Checkbox for each value in the array\n",
    "checkboxes = [w.Checkbox(description=value) for value in cuisine_type]\n",
    "# Arrange the checkboxes in a 3-column format\n",
    "checkboxes_grid = [w.HBox(checkboxes[i:i+3]) for i in range(0, len(checkboxes), 3)]\n",
    "checkboxes_box = w.VBox(checkboxes_grid)\n",
    "title = w.HTML('<h3>Cuisine Type:</h3>')\n",
    "# Display the Checkboxes\n",
    "\n",
    "# Create a Checkbox for each value in the array\n",
    "checkboxes_pref = [w.Checkbox(description=value) for value in preference]\n",
    "checkboxes_box_pref = w.VBox(checkboxes_pref)\n",
    "title_pref = w.HTML('<h3>Preference:</h3>')\n",
    "# Display the Checkboxes\n",
    "\n",
    "display(title, checkboxes_box, title_pref, checkboxes_box_pref)\n",
    "\n",
    "\n",
    "# Create an Output widget for error messages\n",
    "out = w.Output()\n",
    "\n",
    "# Define a function to validate the checkboxes\n",
    "def validate_checkboxes(change):\n",
    "    checked_values = [checkbox.description for checkbox in checkboxes if checkbox.value]\n",
    "    if not checked_values:\n",
    "        with out:\n",
    "            out.clear_output()\n",
    "            print(\"Please select at least one value.\")\n",
    "\n",
    "# Add a change listener to each checkbox\n",
    "for checkbox in checkboxes:\n",
    "    checkbox.observe(validate_checkboxes, 'value')"
   ]
  },
  {
   "cell_type": "code",
   "execution_count": null,
   "metadata": {
    "pycharm": {
     "name": "#%%\n"
    }
   },
   "outputs": [],
   "source": [
    "# Get the checked values\n",
    "cuisine_type_checked_values = [checkbox.description for checkbox in checkboxes if checkbox.value]\n",
    "\n",
    "# Print the checked values\n",
    "# print(\"CT Checked values:\", cuisine_type_checked_values)\n",
    "\n",
    "# Get the checked values\n",
    "preference_checked_values = [checkbox.description for checkbox in checkboxes_pref if checkbox.value]\n",
    "\n",
    "# Print the checked values\n",
    "# print(\"P Checked values:\", preference_checked_values)\n",
    "\n",
    "final_cat = cuisine_type_checked_values + preference_checked_values\n",
    "print(final_cat)"
   ]
  },
  {
   "cell_type": "markdown",
   "metadata": {
    "pycharm": {
     "name": "#%% md\n"
    }
   },
   "source": [
    "## Model recommendation and filtering"
   ]
  },
  {
   "cell_type": "code",
   "execution_count": null,
   "metadata": {
    "scrolled": true,
    "pycharm": {
     "name": "#%%\n"
    }
   },
   "outputs": [],
   "source": [
    "from res_recc import get_recomendation\n",
    "gr = get_recomendation(final_cat)\n",
    "\n",
    "recom = gr.recc(None, date_range=end_date - begin_date)"
   ]
  },
  {
   "cell_type": "markdown",
   "metadata": {
    "pycharm": {
     "name": "#%% md\n"
    }
   },
   "source": [
    "## Final Output"
   ]
  },
  {
   "cell_type": "code",
   "execution_count": null,
   "metadata": {
    "pycharm": {
     "name": "#%%\n"
    }
   },
   "outputs": [],
   "source": [
    "from res_recc import final_output\n",
    "days = (end_date - begin_date).days + 1\n",
    "display(final_output(days, recom))"
   ]
  },
  {
   "cell_type": "code",
   "execution_count": null,
   "metadata": {
    "pycharm": {
     "name": "#%%\n"
    }
   },
   "outputs": [],
   "source": []
  }
 ],
 "metadata": {
  "hide_input": false,
  "kernelspec": {
   "display_name": "Python 3",
   "language": "python",
   "name": "python3"
  },
  "language_info": {
   "codemirror_mode": {
    "name": "ipython",
    "version": 3
   },
   "file_extension": ".py",
   "mimetype": "text/x-python",
   "name": "python",
   "nbconvert_exporter": "python",
   "pygments_lexer": "ipython3",
   "version": "3.9.9"
  }
 },
 "nbformat": 4,
 "nbformat_minor": 2
}