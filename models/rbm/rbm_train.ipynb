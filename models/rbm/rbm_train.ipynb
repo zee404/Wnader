{
 "cells": [
  {
   "cell_type": "code",
   "execution_count": null,
   "id": "8e64ea30-99ea-4dae-86ad-23c42e949b29",
   "metadata": {},
   "outputs": [],
   "source": [
    "import numpy as np\n",
    "import pandas as pd\n",
    "\n",
    "import torch.nn as nn                 # the torch module to implement the Neural Networks\n",
    "import torch.nn.parallel              # for parallel computations\n",
    "import torch.optim as optim           # for optimizers\n",
    "import torch.utils.data               # tools\n",
    "from torch.autograd import Variable   # for Stochastic Gradient Descent"
   ]
  },
  {
   "cell_type": "code",
   "execution_count": null,
   "id": "7e386245-67e0-4cc8-bb7d-b2b889b7dc95",
   "metadata": {},
   "outputs": [],
   "source": [
    "reviews = pd.read_csv('data/attractions/reviews/attractions_reviews_clean.csv')\n",
    "reviews.head()"
   ]
  },
  {
   "cell_type": "code",
   "execution_count": null,
   "id": "25ba4906-692f-46d7-90d0-2cde00a39426",
   "metadata": {},
   "outputs": [],
   "source": [
    "details = pd.read_csv('data/attractions/details/attractions_details_clean.csv')\n",
    "details.head()"
   ]
  },
  {
   "cell_type": "code",
   "execution_count": null,
   "id": "58019aad-b20e-4f6e-8c1d-9e0223f8a8e4",
   "metadata": {},
   "outputs": [],
   "source": [
    "reviews.drop(['review', 'review_date', 'user'], axis=1, inplace=True)\n",
    "reviews.head()\n"
   ]
  },
  {
   "cell_type": "code",
   "execution_count": null,
   "id": "009c036b-684f-449d-923b-ce6f0ba36280",
   "metadata": {},
   "outputs": [],
   "source": [
    "# Pivot the ratings data to get a user-movie rating matrix\n",
    "reviews_matrix = reviews.pivot_table(index='user_id', columns='attraction_id', values='rating', aggfunc='mean')\n",
    "reviews_matrix.fillna(0, inplace=True)"
   ]
  },
  {
   "cell_type": "code",
   "execution_count": null,
   "id": "bd29365d-05eb-4502-bd61-a5985b084a62",
   "metadata": {},
   "outputs": [],
   "source": [
    "reviews_matrix"
   ]
  },
  {
   "cell_type": "code",
   "execution_count": null,
   "id": "c9e03d2e-7c2c-4d70-b09c-5b43badacaa8",
   "metadata": {},
   "outputs": [],
   "source": [
    "from sklearn.model_selection import train_test_split\n",
    "# Split the data into training and testing sets\n",
    "X_train, X_test = train_test_split(reviews_matrix.values, test_size=0.2, random_state=42)"
   ]
  },
  {
   "cell_type": "code",
   "execution_count": null,
   "id": "4f360c47-73cd-4fa9-ad4e-628ce3f7c18f",
   "metadata": {},
   "outputs": [],
   "source": [
    "# Normalize the training data to have zero mean and unit variance\n",
    "from sklearn.preprocessing import StandardScaler\n",
    "scaler = StandardScaler()\n",
    "X_train_norm = scaler.fit_transform(X_train)\n",
    "X_train_norm\n",
    "\n",
    "# Convert pivot table DataFrame to binary matrix format using threshold\n",
    "# binary_matrix = (pivot_table.fillna(0) > 3).astype(np.int32).values"
   ]
  },
  {
   "cell_type": "code",
   "execution_count": null,
   "id": "4b2ae5ef-86a2-4ecb-978b-7cda4e5c6b6d",
   "metadata": {},
   "outputs": [],
   "source": [
    "# Define the number of visible and hidden units for the RBM model\n",
    "visible_units = X_train_norm.shape[1]\n",
    "hidden_units = 100\n",
    "learning_rate = 0.01\n",
    "batch_size = 100\n",
    "epochs = 10\n",
    "\n",
    "print(visible_units, hidden_units)"
   ]
  },
  {
   "cell_type": "code",
   "execution_count": null,
   "id": "ad8a8d90-a77e-4765-9000-bfa0925b2111",
   "metadata": {},
   "outputs": [],
   "source": [
    "train_set = torch.FloatTensor(X_train_norm)\n",
    "test_set = torch.FloatTensor(X_test)"
   ]
  },
  {
   "cell_type": "code",
   "execution_count": null,
   "id": "50c2ee34-d7ca-4d20-b336-0d3a3c8330f0",
   "metadata": {},
   "outputs": [],
   "source": [
    "import tensorflow as tf\n",
    "from rbm_model import RBM\n",
    "\n",
    "# Train RBM model\n",
    "rbm_model = RBM(visible_units, hidden_units)\n",
    "# optimizer = tf.keras.optimizers.Adam(learning_rate)\n",
    "\n",
    "# for epoch in range(epochs):\n",
    "#     loss_update = 0\n",
    "#     for i in range(0, X_train_norm.shape[0], batch_size):\n",
    "#         batch = X_train_norm[i:i+batch_size]\n",
    "#         with tf.GradientTape() as tape:\n",
    "#             reconstructed_batch = rbm_model(batch)\n",
    "#             loss = tf.reduce_mean(tf.square(batch - reconstructed_batch))\n",
    "#             loss_update = loss \n",
    "#         gradients = tape.gradient(loss, rbm_model.trainable_variables)\n",
    "#         optimizer.apply_gradients(zip(gradients, rbm_model.trainable_variables))\n",
    "#     print(\"Epoch: \", epoch, \"Loss: \", loss_update.numpy())\n"
   ]
  },
  {
   "cell_type": "code",
   "execution_count": null,
   "id": "73592b14-2785-4297-b0c5-068651290a73",
   "metadata": {},
   "outputs": [],
   "source": [
    "# Save the trained model for future use\n",
    "#rbm_model.save('weight/rbm_weight_model.h5')\n",
    "\n",
    "# Example usage\n",
    "# Assume you have trained an RBM model named \"model\"\n",
    "# and you have a test dataset \"test_data\"\n",
    "# You can save the model using the following code:\n",
    "checkpoint_path = \"weight/rbm_weight_model\"\n",
    "checkpoint = tf.train.Checkpoint(model=rbm_model)\n",
    "checkpoint.write(checkpoint_path)\n",
    "\n",
    "# You can then load the model using the following code:\n",
    "loaded_checkpoint = tf.train.Checkpoint(model=RBM(visible_units, hidden_units))\n",
    "loaded_checkpoint.restore(checkpoint_path)\n",
    "new_rbm_model = loaded_checkpoint.model\n"
   ]
  },
  {
   "cell_type": "code",
   "execution_count": null,
   "id": "4d24b7dc-70df-40e8-a4aa-9cc58519ec0a",
   "metadata": {},
   "outputs": [],
   "source": [
    "def evaluate(model, test_matrix):\n",
    "    aps = []\n",
    "    for user_id in range(test_matrix.shape[0]):\n",
    "        user_ratings = test_matrix[user_id]\n",
    "        rated_items = np.where(user_ratings > 0)[0]\n",
    "        if len(rated_items) > 0:\n",
    "            hidden_representation = model.sample_hidden(tf.constant([user_ratings], dtype=tf.float32))\n",
    "            predicted_ratings = model.sample_visible(hidden_representation)\n",
    "            recommended_items = (-predicted_ratings.numpy()).argsort()[0]\n",
    "            ap = average_precision(recommended_items, rated_items)\n",
    "            aps.append(ap)\n",
    "    map_score = np.mean(aps)\n",
    "    return map_score\n",
    "\n",
    "def average_precision(recommended_items, relevant_items):\n",
    "    ap = 0\n",
    "    hits = 0\n",
    "    for i, item in enumerate(recommended_items):\n",
    "        if item in relevant_items:\n",
    "            hits += 1\n",
    "            ap += hits / (i + 1)\n",
    "    if hits > 0:\n",
    "        ap /= hits\n",
    "    return ap\n",
    "\n",
    "# Use the trained RBM model to predict the ratings for the test set\n",
    "X_test_norm = scaler.transform(X_test)\n",
    "\n",
    "print(evaluate(new_rbm_model, X_test_norm))"
   ]
  },
  {
   "cell_type": "code",
   "execution_count": null,
   "id": "9f06e1db",
   "metadata": {},
   "outputs": [],
   "source": [
    "# Make hotel recommendations for a given user\n",
    "user_id = 0\n",
    "user_ratings = X_train_norm[user_id]\n",
    "hidden_representation = new_rbm_model.sample_hidden(tf.constant([user_ratings], dtype=tf.float32))\n",
    "predicted_ratings = new_rbm_model.sample_visible(hidden_representation)\n",
    "print((-predicted_ratings.numpy()).argsort()[0])\n",
    "recommendations = (-predicted_ratings.numpy()).argsort()[0][:100]\n",
    "\n",
    "print(recommendations)"
   ]
  },
  {
   "cell_type": "code",
   "execution_count": null,
   "id": "e46d83cc",
   "metadata": {},
   "outputs": [],
   "source": [
    "top_n = 10\n",
    "scores = new_rbm_model.predict(tf.constant([user_ratings], dtype=tf.float32))\n",
    "scores_final = scores.tolist()[0]\n",
    "print(scores_final)"
   ]
  },
  {
   "cell_type": "code",
   "execution_count": null,
   "id": "f50d9422",
   "metadata": {},
   "outputs": [],
   "source": []
  }
 ],
 "metadata": {
  "kernelspec": {
   "display_name": "Python 3 (ipykernel)",
   "language": "python",
   "name": "python3"
  },
  "language_info": {
   "codemirror_mode": {
    "name": "ipython",
    "version": 3
   },
   "file_extension": ".py",
   "mimetype": "text/x-python",
   "name": "python",
   "nbconvert_exporter": "python",
   "pygments_lexer": "ipython3",
   "version": "3.9.9"
  }
 },
 "nbformat": 4,
 "nbformat_minor": 5
}
